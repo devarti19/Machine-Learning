{
 "cells": [
  {
   "cell_type": "markdown",
   "metadata": {},
   "source": [
    "# Machine Learning"
   ]
  },
  {
   "cell_type": "markdown",
   "metadata": {},
   "source": [
    "Machine learning is the subfield of computer science that gives \"computers the ability to learn without being explicitly programmed.”"
   ]
  },
  {
   "cell_type": "markdown",
   "metadata": {},
   "source": [
    "The more popular techniques in machine learning are:\n",
    "<ul>\n",
    "    <li><b>The Regression/Estimation</b> technique is used for predicting a continuous value, \n",
    "         for example,predicting things like the price of a house based on its characteristics, or          to estimate the Co2 emission from a car’s engine.\n",
    "    <li><b>A Classification technique</b> is used for Predicting the class or category of a case,          for example,if a cell is benign or malignant, or whether or not a customer will churn.\n",
    "    <li><b>Clustering</b> groups means finding the structure of data,summarization, for example, can find similar patients, or can           be usedfor customer segmentation in the banking field.\n",
    "    <li><b>Association</b> technique(Associating frequent co-occuring items/events|) is used for finding items or events that often co-occur, for example,\n",
    "grocery items that are usually bought together by a particular customer."
   ]
  },
  {
   "cell_type": "markdown",
   "metadata": {},
   "source": [
    "Most of the tasks that need to be done in a machine learning pipeline are implemented\n",
    "already in scikit learn, including, pre-processing of data, feature selection, feature extraction,\n",
    "train/test splitting, defining the algorithms, fitting models, tuning parameters, prediction,\n",
    "evaluation, and exporting the model."
   ]
  },
  {
   "cell_type": "markdown",
   "metadata": {},
   "source": [
    "### Supervised Learning"
   ]
  },
  {
   "cell_type": "markdown",
   "metadata": {},
   "source": [
    "Supervise means to observe and direct the execution of a task, project, or activity.\n",
    "\n",
    "There are two types of Supervised Learning techniques.\n",
    "They are: classification and regression.\n",
    "<ul>\n",
    "<li>Classification is the process of predicting a discrete class label or category.\n",
    "\n",
    "<li>Regression is the process of predicting a continuous value as opposed to predicting\n",
    "a categorical value in Classification.\n",
    "    </ul>"
   ]
  },
  {
   "cell_type": "markdown",
   "metadata": {},
   "source": [
    "### Unsupervised Learning"
   ]
  },
  {
   "cell_type": "markdown",
   "metadata": {},
   "source": [
    "We do not supervise the model, but we let the model work on its own to discover information\n",
    "that may not be visible to the human eye.\n",
    "It means, The Unsupervised algorithm trains on the dataset, and draws conclusions on UNLABELED\n",
    "data."
   ]
  },
  {
   "cell_type": "markdown",
   "metadata": {},
   "source": [
    "Unsupervised learning has more difficult algorithms than supervised\n",
    "learning, since we know little to no information about the data, or the outcomes that are to\n",
    "be expected.\n",
    "Dimension reduction, Density estimation, Market basket analysis and Clustering are the most\n",
    "widely used unsupervised machine learning techniques."
   ]
  },
  {
   "cell_type": "markdown",
   "metadata": {},
   "source": [
    "Dimensionality Reduction and/or feature selection play a large role in this by reducing redundant\n",
    "features to make the classification easier.\n",
    "Market basket analysis is a modelling technique based upon the theory that if you buy a certain\n",
    "group of items, you’re more likely to buy another group of items.\n",
    "Density estimation is a very simple concept that is mostly used to explore the data to\n",
    "find some structure within it.\n",
    "And finally, clustering.\n",
    "Clustering is considered to be one of the most popular unsupervised machine learning\n",
    "techniques used for grouping data points or objects that are somehow similar.\n",
    "Cluster analysis has many applications in different domains, whether it be a bank’s\n",
    "desire to segment its customers based on certain characteristics, or helping an individual\n",
    "to organize and group his/her favourite types of music!"
   ]
  },
  {
   "cell_type": "code",
   "execution_count": null,
   "metadata": {},
   "outputs": [],
   "source": []
  }
 ],
 "metadata": {
  "kernelspec": {
   "display_name": "Python 3",
   "language": "python",
   "name": "python3"
  },
  "language_info": {
   "codemirror_mode": {
    "name": "ipython",
    "version": 3
   },
   "file_extension": ".py",
   "mimetype": "text/x-python",
   "name": "python",
   "nbconvert_exporter": "python",
   "pygments_lexer": "ipython3",
   "version": "3.6.7"
  }
 },
 "nbformat": 4,
 "nbformat_minor": 2
}
